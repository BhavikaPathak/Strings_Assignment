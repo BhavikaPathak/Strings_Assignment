{
 "cells": [
  {
   "cell_type": "code",
   "execution_count": 1,
   "id": "93c130e5-56f4-47c7-813f-168b86daf5fb",
   "metadata": {},
   "outputs": [
    {
     "name": "stdout",
     "output_type": "stream",
     "text": [
      " ' \n"
     ]
    }
   ],
   "source": [
    "#                                        ANSWER 1\n",
    "variable_name = \" ' \"\n",
    "print(variable_name)"
   ]
  },
  {
   "cell_type": "code",
   "execution_count": 3,
   "id": "040567d2-c4f4-4ef4-8727-0d4bdbc986f4",
   "metadata": {},
   "outputs": [
    {
     "name": "stdout",
     "output_type": "stream",
     "text": [
      "<class 'str'>\n"
     ]
    }
   ],
   "source": [
    "#                                      ANSWER 2\n",
    "# In Python, both a single character enclosed in quotes and a string of length 1 are represented as string type variables. So, in the case of the variable x = 'a', 'x'  is a string type variable, not a character type.\n",
    "# In Python, there is no separate data type for individual characters. Instead, a single character is represented as a string of length 1. This design choice allows for consistent handling of individual characters and strings, making operations and manipulations more uniform.\n",
    "x = 'a'\n",
    "print(type(x))\n",
    "# The output confirms that the type of \"x\" is \"<class 'str'>\", indicating that it is a string type variable.\n",
    "# In Python, you can perform various string operations on \"x\" as you would with any other string, such as indexing, slicing, concatenation, and more. This consistency in treating single characters as strings simplifies coding and avoids special cases for individual characters."
   ]
  },
  {
   "cell_type": "code",
   "execution_count": 15,
   "id": "4559f31e-1dab-4957-b06b-536bf70430cb",
   "metadata": {},
   "outputs": [
    {
     "data": {
      "text/plain": [
       "4"
      ]
     },
     "execution_count": 15,
     "metadata": {},
     "output_type": "execute_result"
    }
   ],
   "source": [
    "#                                     ANSWER 3 (1)\n",
    "variable_name = \"Welcome to Python foundation course\"\n",
    "variable_name.find(\"o\")"
   ]
  },
  {
   "cell_type": "code",
   "execution_count": 16,
   "id": "b34a7496-0cbb-4b21-8cb9-75dd5c815876",
   "metadata": {},
   "outputs": [
    {
     "data": {
      "text/plain": [
       "3"
      ]
     },
     "execution_count": 16,
     "metadata": {},
     "output_type": "execute_result"
    }
   ],
   "source": [
    "#                                  ANSWER 3 (2)\n",
    "variable_name.count(\"e\")"
   ]
  },
  {
   "cell_type": "code",
   "execution_count": 17,
   "id": "836157f1-82d5-427a-9e11-905cae67f78c",
   "metadata": {},
   "outputs": [
    {
     "data": {
      "text/plain": [
       "35"
      ]
     },
     "execution_count": 17,
     "metadata": {},
     "output_type": "execute_result"
    }
   ],
   "source": [
    "#                                     ANSWER3 (3)\n",
    "len(variable_name)"
   ]
  },
  {
   "cell_type": "code",
   "execution_count": 18,
   "id": "d588622e-090c-4200-8596-b48ee9ae6b5d",
   "metadata": {},
   "outputs": [
    {
     "name": "stdout",
     "output_type": "stream",
     "text": [
      "Welcome to Python foundation course for beginners\n"
     ]
    }
   ],
   "source": [
    "text = 'Welcome to Python foundation course'\n",
    "added_text = ' for beginners'\n",
    "concatenated = text + added_text\n",
    "print(concatenated)"
   ]
  },
  {
   "cell_type": "code",
   "execution_count": 27,
   "id": "95924b0c-829f-433a-bceb-b8f3ba8f1e4e",
   "metadata": {},
   "outputs": [
    {
     "name": "stdout",
     "output_type": "stream",
     "text": [
      " Total number of alphabets in lowercase :  4\n"
     ]
    }
   ],
   "source": [
    "#                                    ANSWER 4(1)\n",
    "word = 'PanaJi@12256'\n",
    "lowercase_count = sum(1 for char in word if char.islower())\n",
    "print(\" Total number of alphabets in lowercase : \",lowercase_count)"
   ]
  },
  {
   "cell_type": "code",
   "execution_count": 28,
   "id": "510c52e1-13a5-45f1-800f-a8b3e912716a",
   "metadata": {},
   "outputs": [
    {
     "name": "stdout",
     "output_type": "stream",
     "text": [
      " Total number of alphabets in uppercase :  2\n"
     ]
    }
   ],
   "source": [
    "#                                    ANSWER 4(2)\n",
    "word = 'PanaJi@12256'\n",
    "uppercase_count = sum(1 for char in word if char.isupper())\n",
    "print(\" Total number of alphabets in uppercase : \",uppercase_count)"
   ]
  },
  {
   "cell_type": "code",
   "execution_count": 29,
   "id": "9f5de093-3fb4-427c-8501-9a1828fde69e",
   "metadata": {},
   "outputs": [
    {
     "name": "stdout",
     "output_type": "stream",
     "text": [
      " Total number of numerical in str1ng :  5\n"
     ]
    }
   ],
   "source": [
    "#                                    ANSWER 4(3)\n",
    "word = 'PanaJi@12256'\n",
    "numerical_count = sum(1 for char in word if char.isdigit())\n",
    "print(\" Total number of numerical in str1ng : \" ,numerical_count)"
   ]
  },
  {
   "cell_type": "code",
   "execution_count": 40,
   "id": "48dade6d-7cc1-45e0-9757-bf2caecb7c64",
   "metadata": {},
   "outputs": [
    {
     "name": "stdout",
     "output_type": "stream",
     "text": [
      " VARIABLE IN NUMERICAL VALUE :  55 \n",
      " VERIFY THE TYPE :  <class 'int'>\n",
      " CONVERTED NUMERICAL VALUE INTO STRING :  55 \n",
      " VERIFY THE TYPE :  <class 'str'>\n"
     ]
    }
   ],
   "source": [
    "#                               ANSWER(5)\n",
    "variable_in_num = 55\n",
    "print(\" VARIABLE IN NUMERICAL VALUE : \",variable_in_num,\"\\n VERIFY THE TYPE : \",type(variable_in_num))\n",
    "variable_in_num_as_string = str(variable_in_num)\n",
    "print(\" CONVERTED NUMERICAL VALUE INTO STRING : \",variable_in_num_as_string,\"\\n VERIFY THE TYPE : \",type(variable_in_num_as_string))  "
   ]
  },
  {
   "cell_type": "code",
   "execution_count": null,
   "id": "e4b0661f-076a-4134-be72-29e9ff242ffc",
   "metadata": {},
   "outputs": [],
   "source": []
  }
 ],
 "metadata": {
  "kernelspec": {
   "display_name": "Python 3 (ipykernel)",
   "language": "python",
   "name": "python3"
  },
  "language_info": {
   "codemirror_mode": {
    "name": "ipython",
    "version": 3
   },
   "file_extension": ".py",
   "mimetype": "text/x-python",
   "name": "python",
   "nbconvert_exporter": "python",
   "pygments_lexer": "ipython3",
   "version": "3.10.6"
  }
 },
 "nbformat": 4,
 "nbformat_minor": 5
}
